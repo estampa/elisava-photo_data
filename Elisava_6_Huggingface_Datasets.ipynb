{
  "nbformat": 4,
  "nbformat_minor": 0,
  "metadata": {
    "colab": {
      "provenance": []
    },
    "kernelspec": {
      "name": "python3",
      "display_name": "Python 3"
    },
    "language_info": {
      "name": "python"
    },
    "accelerator": "GPU"
  },
  "cells": [
    {
      "cell_type": "markdown",
      "metadata": {
        "id": "zv1yUcSgd27m"
      },
      "source": [
        "# Use datasets from Huggingface\n"
      ]
    },
    {
      "cell_type": "code",
      "source": [
        "#@title Install libraries\n",
        "\n",
        "!pip install -q datasets"
      ],
      "metadata": {
        "id": "_2mnQt91VEO_"
      },
      "execution_count": null,
      "outputs": []
    },
    {
      "cell_type": "code",
      "metadata": {
        "id": "OnodEJASJ6G1"
      },
      "source": [
        "#@title Load dataset\n",
        "\n",
        "from datasets import load_dataset\n",
        "\n",
        "dataset = load_dataset(\"DReAMy-lib/DreamBank-dreams-en\")"
      ],
      "execution_count": null,
      "outputs": []
    },
    {
      "cell_type": "code",
      "source": [
        "#@title Print dataset to view structure\n",
        "\n",
        "print(dataset)"
      ],
      "metadata": {
        "id": "8HoBuWqgVVhA"
      },
      "execution_count": null,
      "outputs": []
    },
    {
      "cell_type": "code",
      "source": [
        "#@title Print the first item from the dataset\n",
        "\n",
        "print(dataset['train'][0])"
      ],
      "metadata": {
        "id": "0r0C8nRjVcdb"
      },
      "execution_count": null,
      "outputs": []
    },
    {
      "cell_type": "code",
      "source": [
        "#@title Pretty print the output\n",
        "import json\n",
        "\n",
        "print(json.dumps(dataset['train'][0], indent=2))"
      ],
      "metadata": {
        "id": "THdFZiOiWv83"
      },
      "execution_count": null,
      "outputs": []
    },
    {
      "cell_type": "code",
      "source": [
        "#@title Get the first 10 items and print the description (\"dreams\" field)\n",
        "first_dreams = dataset['train']['dreams'][0:10]\n",
        "\n",
        "for dream in first_dreams:\n",
        "  print(dream)"
      ],
      "metadata": {
        "id": "2nLI80hwVkxb"
      },
      "execution_count": null,
      "outputs": []
    },
    {
      "cell_type": "markdown",
      "metadata": {
        "id": "kNi8VV-wJDFi"
      },
      "source": [
        "# Credits\n",
        "\n",
        "Taller Estampa https://tallerestampa.com / https://github.com/estampa"
      ]
    }
  ]
}