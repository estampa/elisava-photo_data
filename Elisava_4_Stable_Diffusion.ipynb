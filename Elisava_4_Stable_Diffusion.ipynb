{
  "nbformat": 4,
  "nbformat_minor": 0,
  "metadata": {
    "colab": {
      "provenance": []
    },
    "kernelspec": {
      "display_name": "Python 3",
      "name": "python3"
    },
    "accelerator": "GPU"
  },
  "cells": [
    {
      "cell_type": "markdown",
      "metadata": {
        "id": "zv1yUcSgd27m"
      },
      "source": [
        "# Generating images with stable diffusion\n",
        "\n",
        "Learn to generate image with stable diffusion using Huggingface Diffusers\n",
        "\n",
        "## Outline\n",
        "\n",
        "1.   Generate an image from a prompt\n",
        "2.   Generate an image from an image with a prompt\n"
      ]
    },
    {
      "cell_type": "markdown",
      "source": [
        "First we install the library."
      ],
      "metadata": {
        "id": "yxqDfdomsA6Z"
      }
    },
    {
      "cell_type": "code",
      "source": [
        "import locale\n",
        "locale.getpreferredencoding = lambda: \"UTF-8\"\n",
        "\n",
        "!pip install -q diffusers transformers accelerate"
      ],
      "metadata": {
        "id": "SvOI4TDZJMKs"
      },
      "execution_count": null,
      "outputs": []
    },
    {
      "cell_type": "markdown",
      "source": [
        "First we load the model."
      ],
      "metadata": {
        "id": "vymzqY2A6flK"
      }
    },
    {
      "cell_type": "code",
      "source": [
        "from diffusers import AutoPipelineForText2Image\n",
        "from IPython.display import clear_output\n",
        "import torch\n",
        "\n",
        "pipeline_text2image = AutoPipelineForText2Image.from_pretrained(\n",
        "    \"stabilityai/stable-diffusion-xl-base-1.0\", torch_dtype=torch.float16, variant=\"fp16\", use_safetensors=True\n",
        ").to(\"cuda\")\n",
        "\n",
        "clear_output()"
      ],
      "metadata": {
        "id": "BqSJC_7J8QiC"
      },
      "execution_count": null,
      "outputs": []
    },
    {
      "cell_type": "markdown",
      "source": [
        "We generate an image from a prompt."
      ],
      "metadata": {
        "id": "EH_VHL1y8Tq9"
      }
    },
    {
      "cell_type": "code",
      "source": [
        "prompt = \"Astronaut in a jungle, cold color palette, muted colors, detailed, 8k\"\n",
        "negative_prompt = \"low quality, bad quality\"\n",
        "image = pipeline_text2image(prompt=prompt, negative_prompt=negative_prompt).images[0]\n",
        "display(image)"
      ],
      "metadata": {
        "id": "ocJqmSe0zAwW"
      },
      "execution_count": null,
      "outputs": []
    },
    {
      "cell_type": "markdown",
      "source": [
        "We can also condition the generated image with another image (the previous generated one in this case)."
      ],
      "metadata": {
        "id": "Ku1VMj3z6s4A"
      }
    },
    {
      "cell_type": "code",
      "source": [
        "from diffusers import AutoPipelineForImage2Image\n",
        "from diffusers.utils import load_image, make_image_grid\n",
        "\n",
        "# use from_pipe to avoid consuming additional memory when loading a checkpoint\n",
        "pipeline_image2image = AutoPipelineForImage2Image.from_pipe(pipeline_text2image).to(\"cuda\")\n",
        "\n",
        "prompt = \"An astronaut in mars\"\n",
        "image2image = pipeline_image2image(prompt, negative_prompt=negative_prompt, image=image, strength=0.7, guidance_scale=10.5).images[0]\n",
        "image_grid = make_image_grid([image, image2image], rows=1, cols=2)\n",
        "display(image_grid)"
      ],
      "metadata": {
        "id": "42aBowXCzN_d"
      },
      "execution_count": null,
      "outputs": []
    },
    {
      "cell_type": "markdown",
      "source": [
        "We can change how much the original image  affects the output result by modifying the strength parameter"
      ],
      "metadata": {
        "id": "ax2DRjpQ16UT"
      }
    },
    {
      "cell_type": "code",
      "source": [
        "image2image = pipeline_image2image(prompt, negative_prompt=negative_prompt, image=image, strength=0.4, guidance_scale=10.5).images[0]\n",
        "image_grid = make_image_grid([image, image2image], rows=1, cols=2)\n",
        "display(image_grid)"
      ],
      "metadata": {
        "id": "C4uWKREh1pdk"
      },
      "execution_count": null,
      "outputs": []
    },
    {
      "cell_type": "code",
      "source": [
        "# @markdown ### Condition the output based on your prompt and image. The image must be square and you first have to upload it:\n",
        "file_path = \"/content/blackhole.jpg\" # @param {type:\"string\"}\n",
        "new_prompt = \"A crusty doughnut with almonds all over it like an flavour explosion\" # @param {type:\"string\"}\n",
        "image_strength = 0.9 # @param {type:\"slider\", min:0, max:1, step:0.1}\n",
        "\n",
        "\n",
        "from PIL import Image\n",
        "new_image = Image.open(file_path).resize((1024, 1024))\n",
        "\n",
        "image2image = pipeline_image2image(new_prompt, negative_prompt=negative_prompt, image=new_image, strength=image_strength).images[0]\n",
        "image_grid = make_image_grid([new_image, image2image], rows=1, cols=2)\n",
        "display(image_grid)"
      ],
      "metadata": {
        "cellView": "form",
        "id": "rw5KRIrH4K0u"
      },
      "execution_count": null,
      "outputs": []
    },
    {
      "cell_type": "markdown",
      "metadata": {
        "id": "9tgbkOxbkf8B"
      },
      "source": [
        "# Finalizing\n",
        "\n",
        "When you finish working you have to remember to **stop the runtime**, because there is a time limit and to avoid wasting resources. To stop the runtime click Manage Sessions on the Runtime menu. Once the dialog opens click terminate on the current runtime.\n",
        "\n",
        "> But when you stop the runtime everything you have not saved is ⚠ **lost** ⚠, so be sure to **download** everything you want to keep before stopping it.\n"
      ]
    },
    {
      "cell_type": "markdown",
      "metadata": {
        "id": "kNi8VV-wJDFi"
      },
      "source": [
        "# Credits\n",
        "\n",
        "Taller Estampa https://tallerestampa.com / https://github.com/estampa\n",
        "\n",
        "Based on https://huggingface.co/docs/diffusers/en/using-diffusers/sdxl"
      ]
    }
  ]
}